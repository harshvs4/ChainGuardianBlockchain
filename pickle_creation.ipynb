{
 "cells": [
  {
   "cell_type": "code",
   "execution_count": 31,
   "metadata": {},
   "outputs": [],
   "source": [
    "import pandas as pd\n",
    "import numpy as np\n",
    "\n",
    "from sklearn.model_selection import train_test_split\n",
    "from sklearn.preprocessing import LabelEncoder, OneHotEncoder\n",
    "from sklearn.metrics import accuracy_score, classification_report, confusion_matrix\n",
    "from xgboost import XGBClassifier\n",
    "import lightgbm as lgb\n",
    "\n",
    "import pickle\n",
    "import os"
   ]
  },
  {
   "cell_type": "code",
   "execution_count": 2,
   "metadata": {},
   "outputs": [
    {
     "data": {
      "text/html": [
       "<div>\n",
       "<style scoped>\n",
       "    .dataframe tbody tr th:only-of-type {\n",
       "        vertical-align: middle;\n",
       "    }\n",
       "\n",
       "    .dataframe tbody tr th {\n",
       "        vertical-align: top;\n",
       "    }\n",
       "\n",
       "    .dataframe thead th {\n",
       "        text-align: right;\n",
       "    }\n",
       "</style>\n",
       "<table border=\"1\" class=\"dataframe\">\n",
       "  <thead>\n",
       "    <tr style=\"text-align: right;\">\n",
       "      <th></th>\n",
       "      <th>TransactionID</th>\n",
       "      <th>Sender</th>\n",
       "      <th>Receiver</th>\n",
       "      <th>Amount</th>\n",
       "      <th>Currency</th>\n",
       "      <th>GasFee</th>\n",
       "      <th>Timestamp</th>\n",
       "      <th>Purpose</th>\n",
       "      <th>Region</th>\n",
       "      <th>AML_KYC_Verified</th>\n",
       "      <th>Geolocation_Receiver</th>\n",
       "      <th>Geolocation_Sender</th>\n",
       "      <th>Risk_Score</th>\n",
       "      <th>Risk_Category</th>\n",
       "    </tr>\n",
       "  </thead>\n",
       "  <tbody>\n",
       "    <tr>\n",
       "      <th>0</th>\n",
       "      <td>0x55dbfe07923962d56fde48bf1c6eaa4b69d4f4dde05b...</td>\n",
       "      <td>0xd718e9100228b8f3f2ef527c93e699386c7c92c8</td>\n",
       "      <td>0x13aebec2778846670ad21a5845bd80c2db4d6ae0</td>\n",
       "      <td>3165.30</td>\n",
       "      <td>ETH</td>\n",
       "      <td>0.0033</td>\n",
       "      <td>2024-03-05 13:16:33</td>\n",
       "      <td>savings</td>\n",
       "      <td>EU</td>\n",
       "      <td>True</td>\n",
       "      <td>Dubai</td>\n",
       "      <td>Singapore</td>\n",
       "      <td>7</td>\n",
       "      <td>Low</td>\n",
       "    </tr>\n",
       "    <tr>\n",
       "      <th>1</th>\n",
       "      <td>0xfa2b1f7724288f8766c71b4775f17e72f55dcdbe4432...</td>\n",
       "      <td>0x01dc8fdb4b587a0b2567eec4c70c39f1a646c2e7</td>\n",
       "      <td>0x29e86518df3e1edf028d53b1aad4f9e636e2fc80</td>\n",
       "      <td>8755.73</td>\n",
       "      <td>ETH</td>\n",
       "      <td>0.0092</td>\n",
       "      <td>2024-12-11 13:16:33</td>\n",
       "      <td>investment</td>\n",
       "      <td>APAC</td>\n",
       "      <td>True</td>\n",
       "      <td>Dubai</td>\n",
       "      <td>United States</td>\n",
       "      <td>9</td>\n",
       "      <td>Low</td>\n",
       "    </tr>\n",
       "    <tr>\n",
       "      <th>2</th>\n",
       "      <td>0xae6a574327e43ca0e4e127ae263cd75833975886e4e3...</td>\n",
       "      <td>0xb03fb21072772b3781654f9a069c5399b04ae46d</td>\n",
       "      <td>0x4d054afd46c559d170a1b220935a377703b8c7be</td>\n",
       "      <td>188309.64</td>\n",
       "      <td>BTC</td>\n",
       "      <td>0.0084</td>\n",
       "      <td>2024-09-28 13:16:33</td>\n",
       "      <td>unregistered_trade</td>\n",
       "      <td>APAC</td>\n",
       "      <td>False</td>\n",
       "      <td>Japan</td>\n",
       "      <td>China</td>\n",
       "      <td>19</td>\n",
       "      <td>High</td>\n",
       "    </tr>\n",
       "    <tr>\n",
       "      <th>3</th>\n",
       "      <td>0x4f7ee8bd33bac89b489963725986259070ea5a5340a4...</td>\n",
       "      <td>0x54e4e717b8f10ddba2133a1993f587328d5e3d53</td>\n",
       "      <td>0xc6875c3432e2cd5ea803f5711c7ed998d4874a3d</td>\n",
       "      <td>5352.98</td>\n",
       "      <td>ETH</td>\n",
       "      <td>0.0074</td>\n",
       "      <td>2024-09-06 13:16:33</td>\n",
       "      <td>savings</td>\n",
       "      <td>APAC</td>\n",
       "      <td>True</td>\n",
       "      <td>Dubai</td>\n",
       "      <td>Germany</td>\n",
       "      <td>7</td>\n",
       "      <td>Low</td>\n",
       "    </tr>\n",
       "    <tr>\n",
       "      <th>4</th>\n",
       "      <td>0x83bb0f09c360dcc98e6a69fbc5e4084e4b530d2be73f...</td>\n",
       "      <td>0x4088d7dc6f8d7200aa1857cf33806b56e316cd9d</td>\n",
       "      <td>0xa4d3edbd0585ac2c5aa62f3bd5b0a65933f18b72</td>\n",
       "      <td>198.89</td>\n",
       "      <td>ETH</td>\n",
       "      <td>0.0026</td>\n",
       "      <td>2024-09-02 13:16:33</td>\n",
       "      <td>trade</td>\n",
       "      <td>APAC</td>\n",
       "      <td>True</td>\n",
       "      <td>Dubai</td>\n",
       "      <td>Dubai</td>\n",
       "      <td>8</td>\n",
       "      <td>Low</td>\n",
       "    </tr>\n",
       "  </tbody>\n",
       "</table>\n",
       "</div>"
      ],
      "text/plain": [
       "                                       TransactionID  \\\n",
       "0  0x55dbfe07923962d56fde48bf1c6eaa4b69d4f4dde05b...   \n",
       "1  0xfa2b1f7724288f8766c71b4775f17e72f55dcdbe4432...   \n",
       "2  0xae6a574327e43ca0e4e127ae263cd75833975886e4e3...   \n",
       "3  0x4f7ee8bd33bac89b489963725986259070ea5a5340a4...   \n",
       "4  0x83bb0f09c360dcc98e6a69fbc5e4084e4b530d2be73f...   \n",
       "\n",
       "                                       Sender  \\\n",
       "0  0xd718e9100228b8f3f2ef527c93e699386c7c92c8   \n",
       "1  0x01dc8fdb4b587a0b2567eec4c70c39f1a646c2e7   \n",
       "2  0xb03fb21072772b3781654f9a069c5399b04ae46d   \n",
       "3  0x54e4e717b8f10ddba2133a1993f587328d5e3d53   \n",
       "4  0x4088d7dc6f8d7200aa1857cf33806b56e316cd9d   \n",
       "\n",
       "                                     Receiver     Amount Currency  GasFee  \\\n",
       "0  0x13aebec2778846670ad21a5845bd80c2db4d6ae0    3165.30      ETH  0.0033   \n",
       "1  0x29e86518df3e1edf028d53b1aad4f9e636e2fc80    8755.73      ETH  0.0092   \n",
       "2  0x4d054afd46c559d170a1b220935a377703b8c7be  188309.64      BTC  0.0084   \n",
       "3  0xc6875c3432e2cd5ea803f5711c7ed998d4874a3d    5352.98      ETH  0.0074   \n",
       "4  0xa4d3edbd0585ac2c5aa62f3bd5b0a65933f18b72     198.89      ETH  0.0026   \n",
       "\n",
       "             Timestamp             Purpose Region AML_KYC_Verified  \\\n",
       "0  2024-03-05 13:16:33             savings     EU             True   \n",
       "1  2024-12-11 13:16:33          investment   APAC             True   \n",
       "2  2024-09-28 13:16:33  unregistered_trade   APAC            False   \n",
       "3  2024-09-06 13:16:33             savings   APAC             True   \n",
       "4  2024-09-02 13:16:33               trade   APAC             True   \n",
       "\n",
       "  Geolocation_Receiver Geolocation_Sender  Risk_Score Risk_Category  \n",
       "0                Dubai          Singapore           7           Low  \n",
       "1                Dubai      United States           9           Low  \n",
       "2                Japan              China          19          High  \n",
       "3                Dubai            Germany           7           Low  \n",
       "4                Dubai              Dubai           8           Low  "
      ]
     },
     "execution_count": 2,
     "metadata": {},
     "output_type": "execute_result"
    }
   ],
   "source": [
    "# Adjust the file path to your environment\n",
    "df = pd.read_csv(\"transactions_with_risk.csv\")\n",
    "\n",
    "df.head()    # Quick preview"
   ]
  },
  {
   "cell_type": "code",
   "execution_count": 3,
   "metadata": {},
   "outputs": [
    {
     "name": "stdout",
     "output_type": "stream",
     "text": [
      "<class 'pandas.core.frame.DataFrame'>\n",
      "RangeIndex: 20030 entries, 0 to 20029\n",
      "Data columns (total 14 columns):\n",
      " #   Column                Non-Null Count  Dtype  \n",
      "---  ------                --------------  -----  \n",
      " 0   TransactionID         20030 non-null  object \n",
      " 1   Sender                20030 non-null  object \n",
      " 2   Receiver              20030 non-null  object \n",
      " 3   Amount                20030 non-null  float64\n",
      " 4   Currency              20030 non-null  object \n",
      " 5   GasFee                20030 non-null  float64\n",
      " 6   Timestamp             20030 non-null  object \n",
      " 7   Purpose               20030 non-null  object \n",
      " 8   Region                20030 non-null  object \n",
      " 9   AML_KYC_Verified      20030 non-null  object \n",
      " 10  Geolocation_Receiver  20030 non-null  object \n",
      " 11  Geolocation_Sender    20030 non-null  object \n",
      " 12  Risk_Score            20030 non-null  int64  \n",
      " 13  Risk_Category         20030 non-null  object \n",
      "dtypes: float64(2), int64(1), object(11)\n",
      "memory usage: 2.1+ MB\n"
     ]
    }
   ],
   "source": [
    "df.info()"
   ]
  },
  {
   "cell_type": "code",
   "execution_count": 4,
   "metadata": {},
   "outputs": [
    {
     "data": {
      "text/plain": [
       "Risk_Category\n",
       "Low       16388\n",
       "High       3630\n",
       "Medium       12\n",
       "Name: count, dtype: int64"
      ]
     },
     "execution_count": 4,
     "metadata": {},
     "output_type": "execute_result"
    }
   ],
   "source": [
    "df[\"Risk_Category\"].value_counts()"
   ]
  },
  {
   "cell_type": "code",
   "execution_count": 5,
   "metadata": {},
   "outputs": [],
   "source": [
    "# Keep only relevant columns\n",
    "df_model = df[[\n",
    "    \"Amount\",\n",
    "    \"GasFee\",\n",
    "    \"Currency\",\n",
    "    \"Purpose\",\n",
    "    \"Region\",\n",
    "    \"AML_KYC_Verified\",\n",
    "    \"Geolocation_Receiver\",\n",
    "    \"Geolocation_Sender\",\n",
    "    \"Risk_Category\"\n",
    "]].copy()"
   ]
  },
  {
   "cell_type": "code",
   "execution_count": 6,
   "metadata": {},
   "outputs": [],
   "source": [
    "risk_mapping = {\"Low\": 0, \"Medium\": 1, \"High\": 2}\n",
    "df_model[\"Risk_Category\"] = df_model[\"Risk_Category\"].map(risk_mapping)"
   ]
  },
  {
   "cell_type": "code",
   "execution_count": 7,
   "metadata": {},
   "outputs": [],
   "source": [
    "cat_cols = [\"Currency\", \"Purpose\", \"Region\", \"Geolocation_Receiver\", \"Geolocation_Sender\"]\n",
    "label_encoders = {}\n",
    "\n",
    "for col in cat_cols:\n",
    "    le = LabelEncoder()\n",
    "    df_model[col] = le.fit_transform(df_model[col].astype(str))\n",
    "    label_encoders[col] = le\n"
   ]
  },
  {
   "cell_type": "code",
   "execution_count": 8,
   "metadata": {},
   "outputs": [
    {
     "data": {
      "text/plain": [
       "AML_KYC_Verified\n",
       "False    11828\n",
       "True      8172\n",
       "No          17\n",
       "Yes         13\n",
       "Name: count, dtype: int64"
      ]
     },
     "execution_count": 8,
     "metadata": {},
     "output_type": "execute_result"
    }
   ],
   "source": [
    "df_model[\"AML_KYC_Verified\"].value_counts()"
   ]
  },
  {
   "cell_type": "code",
   "execution_count": 9,
   "metadata": {},
   "outputs": [],
   "source": [
    "# Convert 'AML_KYC_Verified' to boolean first, then to integer\n",
    "df_model[\"AML_KYC_Verified\"] = df_model[\"AML_KYC_Verified\"].map({\"True\": True, \"False\": False, \"Yes\": True, \"No\": False})\n",
    "# df_model[\"AML_KYC_Verified\"] = df_model[\"AML_KYC_Verified\"].astype(int)"
   ]
  },
  {
   "cell_type": "code",
   "execution_count": 12,
   "metadata": {},
   "outputs": [
    {
     "data": {
      "text/plain": [
       "AML_KYC_Verified\n",
       "False    11845\n",
       "True      8185\n",
       "Name: count, dtype: int64"
      ]
     },
     "execution_count": 12,
     "metadata": {},
     "output_type": "execute_result"
    }
   ],
   "source": [
    "df_model[\"AML_KYC_Verified\"].value_counts()"
   ]
  },
  {
   "cell_type": "code",
   "execution_count": 11,
   "metadata": {},
   "outputs": [],
   "source": [
    "# convert AML_KYC_Verified to boolean \n",
    "df_model[\"AML_KYC_Verified\"] = df_model[\"AML_KYC_Verified\"].astype(bool)"
   ]
  },
  {
   "cell_type": "code",
   "execution_count": 13,
   "metadata": {},
   "outputs": [],
   "source": [
    "df_model[\"AML_KYC_Verified\"] = df_model[\"AML_KYC_Verified\"].astype(int)"
   ]
  },
  {
   "cell_type": "code",
   "execution_count": 14,
   "metadata": {},
   "outputs": [
    {
     "data": {
      "text/plain": [
       "AML_KYC_Verified\n",
       "0    11845\n",
       "1     8185\n",
       "Name: count, dtype: int64"
      ]
     },
     "execution_count": 14,
     "metadata": {},
     "output_type": "execute_result"
    }
   ],
   "source": [
    "df_model[\"AML_KYC_Verified\"].value_counts()"
   ]
  },
  {
   "cell_type": "code",
   "execution_count": 15,
   "metadata": {},
   "outputs": [],
   "source": [
    "X = df_model.drop(\"Risk_Category\", axis=1)\n",
    "y = df_model[\"Risk_Category\"]"
   ]
  },
  {
   "cell_type": "code",
   "execution_count": 16,
   "metadata": {},
   "outputs": [],
   "source": [
    "X_train, X_test, y_train, y_test = train_test_split(\n",
    "    X, \n",
    "    y, \n",
    "    test_size=0.2,     # 20% test\n",
    "    random_state=42,   # for reproducibility\n",
    "    stratify=y         # keep class distribution\n",
    ")"
   ]
  },
  {
   "cell_type": "code",
   "execution_count": 32,
   "metadata": {},
   "outputs": [],
   "source": [
    "# 7) Train LightGBM\n",
    "lgb_train = lgb.Dataset(X_train, label=y_train)\n",
    "lgb_eval = lgb.Dataset(X_test, label=y_test, reference=lgb_train)"
   ]
  },
  {
   "cell_type": "code",
   "execution_count": 33,
   "metadata": {},
   "outputs": [],
   "source": [
    "params = {\n",
    "        \"objective\": \"multiclass\",\n",
    "        \"num_class\": 4,  # Number of target classes\n",
    "        \"metric\": \"multi_logloss\",\n",
    "        \"boosting_type\": \"gbdt\",\n",
    "        \"learning_rate\": 0.1,\n",
    "        \"num_leaves\": 31,\n",
    "        \"max_depth\": -1,\n",
    "        \"feature_fraction\": 0.8,\n",
    "        \"bagging_fraction\": 0.8,\n",
    "        \"bagging_freq\": 5,\n",
    "        \"seed\": 42,\n",
    "    }"
   ]
  },
  {
   "cell_type": "code",
   "execution_count": 36,
   "metadata": {},
   "outputs": [
    {
     "name": "stdout",
     "output_type": "stream",
     "text": [
      "[LightGBM] [Info] Auto-choosing row-wise multi-threading, the overhead of testing was 0.000141 seconds.\n",
      "You can set `force_row_wise=true` to remove the overhead.\n",
      "And if memory is not enough, you can set `force_col_wise=true`.\n",
      "[LightGBM] [Info] Total Bins 391\n",
      "[LightGBM] [Info] Number of data points in the train set: 16024, number of used features: 8\n",
      "[LightGBM] [Info] Start training from score -0.200712\n",
      "[LightGBM] [Info] Start training from score -7.379258\n",
      "[LightGBM] [Info] Start training from score -1.707999\n",
      "[LightGBM] [Info] Start training from score -34.538776\n",
      "[LightGBM] [Warning] No further splits with positive gain, best gain: -inf\n",
      "[LightGBM] [Warning] No further splits with positive gain, best gain: -inf\n",
      "[LightGBM] [Warning] No further splits with positive gain, best gain: -inf\n",
      "[LightGBM] [Warning] No further splits with positive gain, best gain: -inf\n",
      "[LightGBM] [Warning] No further splits with positive gain, best gain: -inf\n",
      "[LightGBM] [Warning] No further splits with positive gain, best gain: -inf\n",
      "[LightGBM] [Warning] No further splits with positive gain, best gain: -inf\n",
      "[LightGBM] [Warning] No further splits with positive gain, best gain: -inf\n",
      "[LightGBM] [Warning] No further splits with positive gain, best gain: -inf\n",
      "[LightGBM] [Warning] No further splits with positive gain, best gain: -inf\n",
      "[LightGBM] [Warning] No further splits with positive gain, best gain: -inf\n",
      "[LightGBM] [Warning] No further splits with positive gain, best gain: -inf\n",
      "[LightGBM] [Warning] No further splits with positive gain, best gain: -inf\n",
      "[LightGBM] [Warning] No further splits with positive gain, best gain: -inf\n",
      "[LightGBM] [Warning] No further splits with positive gain, best gain: -inf\n",
      "[LightGBM] [Warning] No further splits with positive gain, best gain: -inf\n",
      "[LightGBM] [Warning] No further splits with positive gain, best gain: -inf\n",
      "[LightGBM] [Warning] No further splits with positive gain, best gain: -inf\n",
      "[LightGBM] [Warning] No further splits with positive gain, best gain: -inf\n",
      "[LightGBM] [Warning] No further splits with positive gain, best gain: -inf\n",
      "[LightGBM] [Warning] No further splits with positive gain, best gain: -inf\n",
      "[LightGBM] [Warning] No further splits with positive gain, best gain: -inf\n",
      "[LightGBM] [Warning] No further splits with positive gain, best gain: -inf\n",
      "[LightGBM] [Warning] No further splits with positive gain, best gain: -inf\n",
      "[LightGBM] [Warning] No further splits with positive gain, best gain: -inf\n",
      "[LightGBM] [Warning] No further splits with positive gain, best gain: -inf\n",
      "[LightGBM] [Warning] No further splits with positive gain, best gain: -inf\n",
      "[LightGBM] [Warning] No further splits with positive gain, best gain: -inf\n",
      "[LightGBM] [Warning] No further splits with positive gain, best gain: -inf\n",
      "[LightGBM] [Warning] No further splits with positive gain, best gain: -inf\n",
      "[LightGBM] [Warning] No further splits with positive gain, best gain: -inf\n",
      "[LightGBM] [Warning] No further splits with positive gain, best gain: -inf\n",
      "[LightGBM] [Warning] No further splits with positive gain, best gain: -inf\n",
      "[LightGBM] [Warning] No further splits with positive gain, best gain: -inf\n",
      "[LightGBM] [Warning] No further splits with positive gain, best gain: -inf\n",
      "[LightGBM] [Warning] No further splits with positive gain, best gain: -inf\n",
      "[LightGBM] [Warning] No further splits with positive gain, best gain: -inf\n",
      "[LightGBM] [Warning] No further splits with positive gain, best gain: -inf\n",
      "[LightGBM] [Warning] No further splits with positive gain, best gain: -inf\n",
      "[LightGBM] [Warning] No further splits with positive gain, best gain: -inf\n",
      "[LightGBM] [Warning] No further splits with positive gain, best gain: -inf\n",
      "[LightGBM] [Warning] No further splits with positive gain, best gain: -inf\n",
      "[LightGBM] [Warning] No further splits with positive gain, best gain: -inf\n",
      "[LightGBM] [Warning] No further splits with positive gain, best gain: -inf\n",
      "[LightGBM] [Warning] No further splits with positive gain, best gain: -inf\n",
      "[LightGBM] [Warning] No further splits with positive gain, best gain: -inf\n",
      "[LightGBM] [Warning] No further splits with positive gain, best gain: -inf\n",
      "[LightGBM] [Warning] No further splits with positive gain, best gain: -inf\n",
      "[LightGBM] [Warning] No further splits with positive gain, best gain: -inf\n",
      "[LightGBM] [Warning] No further splits with positive gain, best gain: -inf\n",
      "[LightGBM] [Warning] No further splits with positive gain, best gain: -inf\n",
      "[LightGBM] [Warning] No further splits with positive gain, best gain: -inf\n",
      "[LightGBM] [Warning] No further splits with positive gain, best gain: -inf\n",
      "[LightGBM] [Warning] No further splits with positive gain, best gain: -inf\n",
      "[LightGBM] [Warning] No further splits with positive gain, best gain: -inf\n",
      "[LightGBM] [Warning] No further splits with positive gain, best gain: -inf\n",
      "[LightGBM] [Warning] No further splits with positive gain, best gain: -inf\n",
      "[LightGBM] [Warning] No further splits with positive gain, best gain: -inf\n",
      "[LightGBM] [Warning] No further splits with positive gain, best gain: -inf\n",
      "[LightGBM] [Warning] No further splits with positive gain, best gain: -inf\n",
      "[LightGBM] [Warning] No further splits with positive gain, best gain: -inf\n",
      "[LightGBM] [Warning] No further splits with positive gain, best gain: -inf\n",
      "[LightGBM] [Warning] No further splits with positive gain, best gain: -inf\n",
      "[LightGBM] [Warning] No further splits with positive gain, best gain: -inf\n",
      "[LightGBM] [Warning] No further splits with positive gain, best gain: -inf\n",
      "[LightGBM] [Warning] No further splits with positive gain, best gain: -inf\n",
      "[LightGBM] [Warning] No further splits with positive gain, best gain: -inf\n",
      "[LightGBM] [Warning] No further splits with positive gain, best gain: -inf\n",
      "[LightGBM] [Warning] No further splits with positive gain, best gain: -inf\n",
      "[LightGBM] [Warning] No further splits with positive gain, best gain: -inf\n",
      "[LightGBM] [Warning] No further splits with positive gain, best gain: -inf\n",
      "[LightGBM] [Warning] No further splits with positive gain, best gain: -inf\n",
      "[LightGBM] [Warning] No further splits with positive gain, best gain: -inf\n",
      "[LightGBM] [Warning] No further splits with positive gain, best gain: -inf\n",
      "[LightGBM] [Warning] No further splits with positive gain, best gain: -inf\n",
      "[LightGBM] [Warning] No further splits with positive gain, best gain: -inf\n",
      "[LightGBM] [Warning] No further splits with positive gain, best gain: -inf\n",
      "[LightGBM] [Warning] No further splits with positive gain, best gain: -inf\n",
      "[LightGBM] [Warning] No further splits with positive gain, best gain: -inf\n",
      "[LightGBM] [Warning] No further splits with positive gain, best gain: -inf\n",
      "[LightGBM] [Warning] No further splits with positive gain, best gain: -inf\n",
      "[LightGBM] [Warning] No further splits with positive gain, best gain: -inf\n",
      "[LightGBM] [Warning] No further splits with positive gain, best gain: -inf\n",
      "[LightGBM] [Warning] No further splits with positive gain, best gain: -inf\n",
      "[LightGBM] [Warning] No further splits with positive gain, best gain: -inf\n",
      "[LightGBM] [Warning] No further splits with positive gain, best gain: -inf\n",
      "[LightGBM] [Warning] No further splits with positive gain, best gain: -inf\n",
      "[LightGBM] [Warning] No further splits with positive gain, best gain: -inf\n",
      "[LightGBM] [Warning] No further splits with positive gain, best gain: -inf\n",
      "[LightGBM] [Warning] No further splits with positive gain, best gain: -inf\n",
      "[LightGBM] [Warning] No further splits with positive gain, best gain: -inf\n",
      "[LightGBM] [Warning] No further splits with positive gain, best gain: -inf\n",
      "[LightGBM] [Warning] No further splits with positive gain, best gain: -inf\n"
     ]
    }
   ],
   "source": [
    "model = lgb.train(\n",
    "    params,\n",
    "    lgb_train,\n",
    "    valid_sets=[lgb_train, lgb_eval],\n",
    "    num_boost_round=100\n",
    ")"
   ]
  },
  {
   "cell_type": "code",
   "execution_count": 37,
   "metadata": {},
   "outputs": [],
   "source": [
    "# 8) Predict\n",
    "y_pred = np.argmax(model.predict(X_test), axis=1)\n",
    "acc = accuracy_score(y_test, y_pred)"
   ]
  },
  {
   "cell_type": "code",
   "execution_count": 38,
   "metadata": {},
   "outputs": [
    {
     "name": "stdout",
     "output_type": "stream",
     "text": [
      "Test Accuracy: 0.9985\n",
      "\n",
      "Classification Report:\n",
      "               precision    recall  f1-score   support\n",
      "\n",
      "           0       1.00      1.00      1.00      3278\n",
      "           1       0.25      1.00      0.40         2\n",
      "           2       1.00      0.99      1.00       726\n",
      "\n",
      "    accuracy                           1.00      4006\n",
      "   macro avg       0.75      1.00      0.80      4006\n",
      "weighted avg       1.00      1.00      1.00      4006\n",
      "\n",
      "Confusion Matrix:\n",
      " [[3277    1    0]\n",
      " [   0    2    0]\n",
      " [   0    5  721]]\n"
     ]
    }
   ],
   "source": [
    "print(f\"Test Accuracy: {acc:.4f}\")\n",
    "print(\"\\nClassification Report:\\n\", classification_report(y_test, y_pred))\n",
    "print(\"Confusion Matrix:\\n\", confusion_matrix(y_test, y_pred))"
   ]
  },
  {
   "cell_type": "code",
   "execution_count": 39,
   "metadata": {},
   "outputs": [
    {
     "name": "stdout",
     "output_type": "stream",
     "text": [
      "Model accuracy (1.00) >= 0.85. Model saved as lgb_risk_model.pkl.\n"
     ]
    }
   ],
   "source": [
    "# 9) If accuracy is above threshold, pickle the model\n",
    "threshold = 0.85  # example threshold\n",
    "if acc >= threshold:\n",
    "    with open(\"lgb_risk_model.pkl\", \"wb\") as f:\n",
    "        pickle.dump(model, f)\n",
    "    print(f\"Model accuracy ({acc:.2f}) >= {threshold}. Model saved as lgb_risk_model.pkl.\")\n",
    "else:\n",
    "    print(f\"Model accuracy ({acc:.2f}) < {threshold}. Not saving the model.\")"
   ]
  },
  {
   "cell_type": "code",
   "execution_count": null,
   "metadata": {},
   "outputs": [],
   "source": []
  }
 ],
 "metadata": {
  "kernelspec": {
   "display_name": "Python 3",
   "language": "python",
   "name": "python3"
  },
  "language_info": {
   "codemirror_mode": {
    "name": "ipython",
    "version": 3
   },
   "file_extension": ".py",
   "mimetype": "text/x-python",
   "name": "python",
   "nbconvert_exporter": "python",
   "pygments_lexer": "ipython3",
   "version": "3.10.16"
  }
 },
 "nbformat": 4,
 "nbformat_minor": 2
}
